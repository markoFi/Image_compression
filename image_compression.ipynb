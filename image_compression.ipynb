%matplotlib inline
# qt to have a new window for matplotlib figures
# ( %matplotlib alone did not work on my pc )

from time import time
from numpy import zeros, sum, arange
from numpy import shape, around, array, savetxt
from matplotlib.pyplot import imshow, imread, imsave, show
from scipy.fftpack import dct, idct
from os.path import exists, getsize
from sys import exit

class picture():
    """ General picture class.

    Provides features for reading in PNGs and GIFs.
    
    Methods:
    
        __init__      - constructor
        showImgOrig   - Display loaded Image (PNG-, JPG- or GIF-type)
        getDimensions - returns Size of the loaded Image

    """
    def __init__( self, name ):
        """ Constructor

        The constructor reads in a name, which loads a PNG
        file into the program and gets the height and width
        of the image in pixel (ndarray, heigh, width, compressionR)

        Keyword arguments:
        name -- filename of picture of format with filetype
                (png, jpg and gif are supported)
                "filename.filetype" (string).

        """
        
        if(exists('./'+name)):
            if((".png" in name) or (".gif" in name) or (".jpg" in name)):
                self.imgO = imread(name)
                self.sizeImg = shape(self.imgO)
                self.height = self.sizeImg[0]
                self.width = self.sizeImg[1]
                self.name = name
            else:
                print("Unknown filetype! JPG, PNG and GIF is only supported.")
                exit()
        else:
            print("File could not be found!")
            exit()

    def showImgOrig( self ):
        """ Function to display an array. (pass)
        
        Method that uses matplotlib.pyplot.imshow
        
        """
        imshow(self.imgO)
        show()
        pass
    
    def getDimensions( self ):
        """ Returns the height and width in pixels of the picture. (int, int)
        
        Method which prints out the height and width in pixels.
        
        """
        self.sizeImg = shape(self.imgO)
        self.height = self.sizeImg[0]
        self.width = self.sizeImg[1]
        print(type(self.height))
        print("The image has " +str(self.height)+" vertical pixels ")
        print(" and  "+str(self.width)+" horizontal pixels")
        return self.height, self. width
        
        class ImageCompression( picture ):
    """ Implements the image compression of PNG- and GIF-files
    
    This class implements the image compression of PNG and GIF files
    with the use of the discrete cosine transform.
    
    Methods:
    
        dct2           - Calculate 2D-discrete cosine transformation of ndarray
        idct2          - Calculate inverse 2D-
                         discrete cosine transformation of ndarray
        __saveCompImg  - Save the compressed Image into a file with the same
                         type as the original (Should be called after compression
                         and is therefore private)
        __blockDCT     - Calculating DCT coefficients in block_size**2 blocks
                         for the whole input
        __reassemble   - Reassembles the coefficients in ndarray which can be
                         displayed and saved
        __modifyDctCut - Modifies DCT coefficients by cutting out values below
                         a certain value
        __printCompressionInfo - Prints out information about the compression
                         process into the output box.
        compression    - Performs JPEG compression (Different types possible)
        showCompImg    - Displays the compressed Image generated with compression
                         (Compression should be run beforehand)
    
    """
    def dct2(self, M):
        """ Returns a two-dimensional discrete cosine transform. (ndarray)
        
        Keyword arguments:
        M -- two-dimensional array (ndarray).
                
        """
        return dct( dct( M, axis=0, norm='ortho' ), axis=1, norm='ortho' )

    def idct2(self, M):
        """ Returns an inverse two-dimensional discrete cosine transform. (ndarray)
        
        Keyword arguments:
        M -- two-dimensional array (ndarray).
                
        """
        return idct( idct( M, axis=0 , norm='ortho'), axis=1 , norm='ortho')
    
    def __saveCompImg(self, filename):
        """ Function to save compressed image. (image-file)
        
        This method saves the compressed image in the
        same directory as the program. It saves the image under the same
        filetype as the original image.
        
        Keyword arguments:
        filename -- Name of the new saved file (string).
        
        """
        self.cname = filename
        imsave(filename, self.imgC)
        pass
    
    def __blockDCT(self, im):
        """ Calculating blockwise DCT coefficients. (ndarray)

        This method calculates the DCT coefficients in two
        dimension for a ndarray.

        Keyword arguments:
        a -- Matrix of a PNG- or GIF-file (ndarray).

        """
        a = zeros(self.sizeImg)
        
        for i in self.y:
            for j in self.x:
                a[i:(i+self.block_size),j:(j+self.block_size),:] = self.dct2( im[i:(i+self.block_size),j:(j+self.block_size),:] )
        
        return a
    
    def __reassemble(self, a):
        """ Reassembling the image with the modified DCT coefficients. (ndarray)

        Reassembles the DCT coefficients into a ndarray,
        which can be displayed.

        Keyword arguments:
        a -- Matrix with DCT coefficients (ndarray).

        """
        imgC = zeros(self.sizeImg)

        for i in self.y:
            for j in self.x:
                imgC[i:(i+self.block_size),j:(j+self.block_size),:] = self.idct2( a[i:(i+self.block_size),j:(j+self.block_size),:] )
        
        # Correcting the colour values for the appropiate data-type
        # matplotlib.pyplot.imsave requires floats within 0 and 1
        # therefore values above 1 are set to 1 and values below 0 set 0
        # Gif-files contain values up to 255 normally, so the values are
        # normalized.
        if( (".png" in self.name) ):
            imgC[imgC > 1] = 1
            imgC[imgC < 0] = 0
        else:
            imgC[imgC > 255] = 255
            imgC[imgC < 0] = 0
            imgC = imgC / 255
        return imgC
    
    def __modifyDctCut(self, a):
        """ Implements a modification for DCT-coefficients (ndarray)
        
        This method modifies a given ndarray filled with DCT coefficient.
        The modification removes all coefficients that are higher
        than the cutoff value.
        
        Keyword arguments:
        a -- Matrix with DCT coefficients (ndarray).
        
        """
        a[abs(a) < self.cutoff] = 0
        return a
    
    def __printCompressionInfo( self, a ):
        """ Prints out information about the image compression process. (pass)
        
        This method prints out the kept DCT coefficients after
        the compression process, the percentage of the new filesize
        and how much time was needed to perform the compression.
        
        Method should be run within compression and after the timings
        were meassured.
        
        Keyword arguments:
        a -- Matrix with DCT coefficients (ndarray).
        
        """
        print("Keeping ", str( (sum( a ) / ( self.height * self.width * self.sizeImg[2]) * 100) ), "% of the coefficients" )
        print("Compromissed image is now ", str(getsize(self.cname)/getsize(self.name) * 100), "% the size of the original image.")
        print("Compression rate: ", str(getsize(self.name)/getsize(self.cname) * 100), "%.")
        print("Performance compression: ", self.end - self.start, "s.")
        pass
                
    def compression( self, block_size = 8, cutoff = 0.05):
        """ Function to compress PNG- or GIF-files. (pass)
        
        This method executs the JPEG compression of the image,
        which is loaded in the class. The image is getting block
        splitted with the entered size and DCT coefficients of 
        lower than the cutoff value are getting removed from the matrix.
        In the end the image is getting reconstructed with the
        inverse DCT. Depending on the filetype the datatype is
        changed to uint8 and a normalization.
        
        Keyword arguments:
                       
        block_size -- (optional) Size of blocks the image is
                      getting split (Default to 8) (int).
                      (only used in cType 1)
                  
        cutoff     -- (optional) Minimum value to not be cutoffed
                      must be positive(Default to 0.05) (float).
                      (only used in cType 1)
        
        """
        # Condition if a reasonable cutoff value has been entered.
        if(cutoff > 0.0):
            self.start = time()
            
            self.block_size = block_size
            self.cutoff = cutoff
                
            # Allocating space for compression method
            self.imgC = zeros(self.sizeImg)
            self.x = arange(0, self.width, self.block_size)
            self.y = arange(0, self.height, self.block_size)
            
            # Using a DCT to compress the image
            # Further information in the docstring of the functions
            a = self.__blockDCT( self.imgO)
            a = self.__modifyDctCut(a)
            self.imgC = self.__reassemble( a )
            
            # Transforming the DCT coefficients back and preparing
            # the values to be displayed as either PNG or GIF-format back
            self.__saveCompImg("compressed_" + self.name)
            
            self.end = time()
            # Printing out the compression level for the project
            self.__printCompressionInfo( a )
        else:
            print("Not a reasonable cutoff value. Please enter a value above 0")
            pass
        pass
            
    def showCompImg( self ):
        """ Function to display an array. (pass)
        
        This method displays the compressed picture
        
        """
        # Checking if compression has been run. If it fails it will print
        # an error message.
        try:
            self.imgC
        except AttributeError:
            print("Image compression has not been executed beforehand!")
            print("Run the member Function compression to generate a compressed image.")
        else:
            imshow(self.imgC)
            show()
        pass
        
        # First program:
picName =input("Enter filename.filetype: ")

# If you like to call the Image Compression call the class with
# the filename of the image you like to open
imagePng = ImageCompression(picName)  # Reads in bitmap image

# Compress the image with the appropriate function within the class
# Further details can be found in the help function of
# ImageCompression.compression
# A good cutoff for Gif files is around 200.
imagePng.compression(block_size = 8, cutoff = 0.3)

# Reopen the compressed image within the class
#imageCompressedPng = picture("compressed_"+picName)
imageCompressedPng = picture("compressed_"+picName)

# The method picture.showImgOrig displays the loaded
# image. To immediately check the compressed Image you can call
# the function within the child class. The function is
# ImageCompression.showComImg
imageCompressedPng.showImgOrig()

# Further information can be found in the help-function of all remaining
# other features.
